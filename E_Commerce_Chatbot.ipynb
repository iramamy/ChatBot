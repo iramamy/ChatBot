{
  "cells": [
    {
      "cell_type": "markdown",
      "metadata": {
        "id": "En3ZVpXiJMym"
      },
      "source": [
        "## Import and Load data file"
      ]
    },
    {
      "cell_type": "code",
      "source": [
        "from google.colab import drive\n",
        "drive.mount('/content/drive')"
      ],
      "metadata": {
        "colab": {
          "base_uri": "https://localhost:8080/"
        },
        "id": "0sL_hS0wJylK",
        "outputId": "260d3767-5e85-4152-c01c-d75d8e4787f9"
      },
      "execution_count": 1,
      "outputs": [
        {
          "output_type": "stream",
          "name": "stdout",
          "text": [
            "Mounted at /content/drive\n"
          ]
        }
      ]
    },
    {
      "cell_type": "code",
      "source": [
        "cd /content/drive/MyDrive/E-Commerce-Chatbot-master/Chatbot/"
      ],
      "metadata": {
        "colab": {
          "base_uri": "https://localhost:8080/"
        },
        "id": "CRTU9UWNJnxO",
        "outputId": "8e8b51e7-ac4c-4a02-c7ce-49fb63937891"
      },
      "execution_count": 2,
      "outputs": [
        {
          "output_type": "stream",
          "name": "stdout",
          "text": [
            "/content/drive/MyDrive/E-Commerce-Chatbot-master/Chatbot\n"
          ]
        }
      ]
    },
    {
      "cell_type": "code",
      "execution_count": 3,
      "metadata": {
        "id": "ZVmRjnbpJMyp"
      },
      "outputs": [],
      "source": [
        "import nltk\n",
        "from nltk.stem import WordNetLemmatizer\n",
        "import json\n",
        "import pickle\n",
        "\n",
        "import numpy as np\n",
        "from keras.models import Sequential\n",
        "from keras.layers import Dense, Activation, Dropout\n",
        "from keras.optimizers import SGD\n",
        "import random\n",
        "\n",
        "from keras.models import load_model\n",
        "from sklearn.model_selection import train_test_split\n",
        "import matplotlib.pyplot as plt"
      ]
    },
    {
      "cell_type": "code",
      "source": [
        "lemmatizer = WordNetLemmatizer()\n",
        "\n",
        "words = []\n",
        "classes = []\n",
        "documents = []\n",
        "ignore_words = ['?', '!']\n",
        "data_file = open('data.json').read()\n",
        "intents = json.loads(data_file)"
      ],
      "metadata": {
        "id": "6bfUAZwqotZP"
      },
      "execution_count": 4,
      "outputs": []
    },
    {
      "cell_type": "code",
      "source": [
        "nltk.download('punkt')\n",
        "nltk.download('wordnet')"
      ],
      "metadata": {
        "colab": {
          "base_uri": "https://localhost:8080/"
        },
        "id": "Shrx30UcKhP7",
        "outputId": "bee45284-d150-4e7c-f4cb-90cb7f66944b"
      },
      "execution_count": 5,
      "outputs": [
        {
          "output_type": "stream",
          "name": "stderr",
          "text": [
            "[nltk_data] Downloading package punkt to /root/nltk_data...\n",
            "[nltk_data]   Unzipping tokenizers/punkt.zip.\n",
            "[nltk_data] Downloading package wordnet to /root/nltk_data...\n"
          ]
        },
        {
          "output_type": "execute_result",
          "data": {
            "text/plain": [
              "True"
            ]
          },
          "metadata": {},
          "execution_count": 5
        }
      ]
    },
    {
      "cell_type": "markdown",
      "metadata": {
        "id": "2E6AwLqJJMys"
      },
      "source": [
        "## Pre-process data"
      ]
    },
    {
      "cell_type": "markdown",
      "metadata": {
        "id": "TlbjvQvUJMyu"
      },
      "source": [
        "Here we iterate through the patterns and tokenize the sentence using nltk.word_tokenize() function and append each word in the words list. We also create a list of classes for our tags."
      ]
    },
    {
      "cell_type": "code",
      "execution_count": 6,
      "metadata": {
        "id": "s8KF0OR1JMyv"
      },
      "outputs": [],
      "source": [
        "for intent in intents['intents']:\n",
        "    for pattern in intent['patterns']:\n",
        "\n",
        "        #tokenize each word\n",
        "        w = nltk.word_tokenize(pattern)\n",
        "        words.extend(w)\n",
        "        #add documents in the corpus\n",
        "        documents.append((w, intent['tag']))\n",
        "\n",
        "        # add to our classes list\n",
        "        if intent['tag'] not in classes:\n",
        "            classes.append(intent['tag'])"
      ]
    },
    {
      "cell_type": "markdown",
      "metadata": {
        "id": "o_SEOL77JMyx"
      },
      "source": [
        "lemmatize each word and remove duplicate words from the list"
      ]
    },
    {
      "cell_type": "code",
      "execution_count": 7,
      "metadata": {
        "colab": {
          "base_uri": "https://localhost:8080/"
        },
        "id": "GT9L6TbkJMyy",
        "outputId": "eb2feff7-b709-42be-ef08-2cb25797e6ef"
      },
      "outputs": [
        {
          "output_type": "stream",
          "name": "stdout",
          "text": [
            "1147 documents\n",
            "77 classes ['armchair_information', 'bachelors_chest_information', 'bureau_flat_desk_information', 'butterfly_dining_table_information', 'cancel', 'canopy_bed_information', 'chest_nightstand_information', 'chest_on_chest_information', 'cheval_mirror_dresser_information', 'classic_nightstand_information', 'confirm', 'console_tv_stand_information', 'corner_tv_stand_information', 'delay', 'delivery', 'discounts', 'double_dresser_information', 'drop_leaf_dining_table_information', 'executive_desk_information', 'floating_tv_stand_information', 'four_poster_bed_information', 'gateleg_table_information', 'general_feedback', 'goodbye', 'greeting', 'hutch_tv_stand_information', 'items', 'laptop_desk_information', 'lost password', 'lowboy_chest_information', 'media_dresser_information', 'mid_century_modern_nightstand_information', 'mid_century_tv_stand_information', 'mission_style_bed_information', 'mobile app', 'more', 'murphy_bed_information', 'negative_feedback', 'nightstand_with_open_shelf_information', 'order status', 'order_modification', 'panel_bed_information', 'payments', 'pedestal_desk_information', 'pedestal_dining_table_information', 'personal', 'platform_bed_information', 'positive_feedback', 'poster_bed_information', 'profile info', 'promotions', 'reasons', 'refectory_dining_table_information', 'refund', 'refund status', 'return', 'rocking_chair_information', 'rustic_nightstand_information', 'secretary_desk_information', 'shaker_nightstand_information', 'shipping_information', 'sleigh_bed_information', 'standard_chest_of_drawers_information', 'standard_dresser_information', 'stool_information', 'store_location', 'tall_dresser_information', 'tallboy_chest_information', 'tansu_chest_information', 'thanks', 'track', 'use voucher', 'user response', 'warranty', 'welsh_dresser_information', 'withdraw refunds', 'writing_desk_information']\n",
            "577 unique lemmatized words [\"'d\", \"'m\", \"'re\", \"'s\", \"'ve\", ',', '.', '[', ']', 'a', 'about', 'accept', 'access', 'accommodate', 'account', 'additional', 'address', 'adios', 'adjustable', 'advantage', 'aesthetic', 'after', 'afternoon', 'again', 'agent', 'all', 'alright', 'am', 'amazing', 'ample', 'an', 'and', 'anticipate', 'any', 'anyone', 'apart', 'app', 'apple', 'application', 'apply', 'appreciate', 'are', 'area', 'armchair', 'arrival', 'arrive', 'arrived', 'assemble', 'assembly', 'assistance', 'available', 'awesome', 'bachelor', 'back', 'backrest', 'bad', 'bank', 'be', 'become', 'bed', 'been', 'behind', 'being', 'benefit', 'best-selling', 'better', 'brand', 'browse', 'built-in', 'bunch', 'bureau', 'but', 'butterfly', 'buy', 'by', 'bye', 'ca', 'cable', 'call', 'can', 'cancel', 'cancelled', 'cancelling', 'canopy', 'capacity', 'card', 'care', 'carrier', 'carry', 'cash', 'casual', 'catalog', 'catch', 'category', 'cause', 'chair', 'change', 'characteristic', 'charge', 'charging', 'check', 'chest', 'chest-on-chest', 'cheval', 'choosing', 'claim', 'classic', 'code', 'color', 'come', 'comfort', 'comfortable', 'comment', 'common', 'commonly', 'communal', 'compare', 'compared', 'completed', 'confirm', 'confirmation', 'confirmed', 'consideration', 'console', 'contact', 'contribute', 'cooling', 'corner', 'cost', 'couch', 'could', 'counter', 'coupon', 'cover', 'covered', 'credit', 'credited', 'current', 'cushion', 'customer', 'day', 'deal', 'deducted', 'delay', 'delayed', 'delaying', 'delete', 'delivered', 'delivery', 'describe', 'design', 'designed', 'desk', 'detail', 'device', 'did', 'differ', 'different', 'dimension', 'dining', 'disappointed', 'disappointing', 'discount', 'dispatched', 'dissatisfied', 'distinguishes', 'do', 'doe', 'doing', 'done', 'double', 'download', 'drawer', 'dresser', 'drop-leaf', 'duration', 'eco-friendly', 'edit', 'element', 'eligible', 'email', 'enhance', 'enter', 'ergonomic', 'estimated', 'even', 'everything', 'excellent', 'executive', 'expect', 'expected', 'experience', 'explain', 'express', 'extending', 'extra', 'fan', 'fantastic', 'far', 'farewell', 'feature', 'feedback', 'feeling', 'find', 'flat', 'floating', 'foldable', 'for', 'forget', 'forgot', 'formal', 'four-poster', 'free', 'from', 'frustrating', 'functionality', 'fund', 'gaming', 'gateleg', 'get', 'getting', 'gift', 'give', 'go', 'going', 'good', 'goodbye', 'great', 'greeting', 'ha', 'happening', 'happy', 'have', 'having', 'height', 'hello', 'help', 'helpful', 'helpline', 'hey', 'hi', 'history', 'home', 'hotline', 'hour', 'how', 'hutch', 'i', 'if', 'im', 'impressed', 'improvement', 'in', 'information', 'initiate', 'innovative', 'input', 'install', 'installment', 'integrated', 'interested', 'interior', 'inventory', 'is', 'it', 'item', 'job', 'kind', 'kitchen', 'know', 'known', 'laptop', 'large', 'late', 'later', 'latest', 'learning', 'leave', 'leg', 'life', 'lifesaver', 'like', 'list', 'living', 'located', 'location', 'locked', 'logging', 'login', 'long', 'look', 'lost', 'lot', 'love', 'lowboy', 'lumbar', 'made', 'maintaining', 'make', 'manage', 'management', 'markdowns', 'marked', 'mastercard', 'material', 'maximize', 'me', 'medium', 'meet', 'meeting', 'merchandise', 'method', 'mid-century', 'minimalist', 'mirror', 'mission', 'mobile', 'modern', 'modify', 'modifying', 'money', 'monitor', 'more', 'morning', 'mouse', 'move', 'much', 'multimedia', 'murphy', 'my', \"n't\", 'near', 'nearest', 'need', 'new', 'next', 'nightstand', 'no', 'not', 'now', 'number', 'nursery', 'obliged', 'occasion', 'of', 'offer', 'office', 'okay', 'on', 'one', 'ongoing', 'online', 'only', 'open', 'operating', 'opinion', 'option', 'or', 'order', 'organized', 'organizing', 'other', 'out', 'outdoor', 'overall', 'package', 'pad', 'panel', 'parcel', 'password', 'pay', 'payment', 'paypal', 'pedestal', 'pending', 'perfect', 'period', 'phone', 'physical', 'placed', 'placing', 'plan', 'platform', 'please', 'pleased', 'policy', 'poor', 'popular', 'port', 'portability', 'possible', 'poster', 'posture', 'pretty', 'price', 'procedure', 'process', 'processed', 'processing', 'product', 'profile', 'promotion', 'provide', 'purchase', 'quality', 'reach', 'really', 'reason', 'receive', 'received', 'receiving', 'recommend', 'redeem', 'reduction', 'refectory', 'refund', 'refunded', 'regarding', 'regular', 'relaxation', 'removable', 'repair', 'replacement', 'representative', 'reputable', 'require', 'reset', 'return', 'returned', 'review', 'rocking', 'room', 'rustic', 'safety', 'sale', 'satisfied', 'say', 'secretary', 'secure', 'see', 'selection', 'sell', 'seller', 'send', 'service', 'set', 'setting', 'shabby', 'shaker', 'shape', 'share', 'shared', 'shelf', 'shipment', 'shipped', 'shipping', 'should', 'show', 'situated', 'size', 'sleigh', 'small', 'so', 'sofa', 'solution', 'some', 'something', 'soon', 'space', 'space-saving', 'speak', 'special', 'specifically', 'specification', 'stand', 'standard', 'status', 'step', 'stock', 'stool', 'stop', 'storage', 'store', 'student', 'sturdy', 'style', 'submit', 'successfully', 'suggest', 'suggestion', 'support', 'surface', 'system', 'table', 'tabletop', 'take', 'taking', 'talk', 'tall', 'tallboy', 'tansu', 'tell', 'term', 'terrible', 'thank', 'thanks', 'that', 'the', 'there', 'think', 'this', 'thnks', 'though', 'thought', 'thx', 'tilting', 'time', 'timeframe', 'timeline', 'tip', 'to', 'too', 'touch', 'track', 'traditional', 'transfer', 'treating', 'trouble', 'tv', 'type', 'unacceptable', 'under', 'uneven', 'unhappy', 'unique', 'until', 'up', 'update', 'usb', 'use', 'used', 'using', 'variety', 'very', 'visit', 'voucher', 'wa', 'wallet', 'want', 'warranty', 'way', 'we', 'weather', 'week', 'weight', 'well', 'welsh', 'what', 'when', 'where', 'which', 'while', 'why', 'will', 'wireless', 'with', 'withdraw', 'wonderful', 'work', 'working', 'workspace', 'worse', 'writing', 'ya', 'yet', 'you', 'your']\n"
          ]
        }
      ],
      "source": [
        "# lemmatize, lower each word and remove duplicates\n",
        "words = [lemmatizer.lemmatize(w.lower()) for w in words if w not in ignore_words]\n",
        "words = sorted(list(set(words)))\n",
        "# sort classes\n",
        "classes = sorted(list(set(classes)))\n",
        "# documents = combination between patterns and intents\n",
        "print (len(documents), \"documents\")\n",
        "# classes = intents\n",
        "print (len(classes), \"classes\", classes)\n",
        "# words = all words, vocabulary\n",
        "print (len(words), \"unique lemmatized words\", words)\n",
        "\n",
        "pickle.dump(words, open('words.pkl','wb'))\n",
        "pickle.dump(classes, open('classes.pkl','wb'))\n",
        "pickle.dump(intents, open('intents.pkl','wb'))"
      ]
    },
    {
      "cell_type": "markdown",
      "metadata": {
        "id": "EZZbLMWvJMy1"
      },
      "source": [
        "## Create training and testing data"
      ]
    },
    {
      "cell_type": "code",
      "source": [
        "training = []\n",
        "\n",
        "# create an empty array for our output\n",
        "output_empty = [0] * len(classes)\n",
        "\n",
        "for doc in documents:\n",
        "\n",
        "    # initialize our bag of words\n",
        "    bag = [0] * len(words)\n",
        "\n",
        "    # list of tokenized words for the pattern\n",
        "    pattern_words = doc[0]\n",
        "\n",
        "    # lemmatize each word - create base word, in attempt to represent related words\n",
        "    pattern_words = [lemmatizer.lemmatize(word.lower()) for word in pattern_words]\n",
        "\n",
        "    # create our bag of words array with 1, if word match found in current pattern\n",
        "    for i, w in enumerate(words):\n",
        "        if w in pattern_words:\n",
        "            bag[i] = 1\n",
        "\n",
        "    output_row = list(output_empty)\n",
        "    output_row[classes.index(doc[1])] = 1\n",
        "\n",
        "    training.append([bag, output_row])"
      ],
      "metadata": {
        "id": "cO-xXBWSMPv9"
      },
      "execution_count": 8,
      "outputs": []
    },
    {
      "cell_type": "code",
      "source": [
        "random.shuffle(training)\n",
        "\n",
        "train_data, val_data = train_test_split(training, test_size=0.2, random_state=42)\n",
        "\n",
        "train_x = np.array([element[0] for element in train_data], dtype=np.float32)\n",
        "train_y = np.array([element[1] for element in train_data], dtype=np.float32)\n",
        "\n",
        "val_x = np.array([element[0] for element in val_data], dtype=np.float32)\n",
        "val_y = np.array([element[1] for element in val_data], dtype=np.float32)"
      ],
      "metadata": {
        "id": "BWDdOvymqUys"
      },
      "execution_count": 9,
      "outputs": []
    },
    {
      "cell_type": "markdown",
      "metadata": {
        "id": "l86sSzX1JMy5"
      },
      "source": [
        "## Create Model & train model"
      ]
    },
    {
      "cell_type": "code",
      "source": [
        "INPUT_SHAPE = train_x.shape[1]\n",
        "CLASSES = train_y.shape[1]"
      ],
      "metadata": {
        "id": "xo_NAQgAxrR1"
      },
      "execution_count": 10,
      "outputs": []
    },
    {
      "cell_type": "code",
      "execution_count": 11,
      "metadata": {
        "id": "V8nMaB9OJMy5",
        "outputId": "80d5c292-ee3c-4d75-92a0-22a4afbd5391",
        "colab": {
          "base_uri": "https://localhost:8080/"
        }
      },
      "outputs": [
        {
          "output_type": "stream",
          "name": "stdout",
          "text": [
            "Epoch 1/100\n",
            "184/184 [==============================] - 4s 5ms/step - loss: 4.3377 - accuracy: 0.0174 - val_loss: 4.3297 - val_accuracy: 0.0174\n",
            "Epoch 2/100\n",
            "184/184 [==============================] - 1s 5ms/step - loss: 4.3229 - accuracy: 0.0131 - val_loss: 4.3175 - val_accuracy: 0.0174\n",
            "Epoch 3/100\n",
            "184/184 [==============================] - 1s 5ms/step - loss: 4.3027 - accuracy: 0.0294 - val_loss: 4.3040 - val_accuracy: 0.0261\n",
            "Epoch 4/100\n",
            "184/184 [==============================] - 1s 6ms/step - loss: 4.2833 - accuracy: 0.0425 - val_loss: 4.2890 - val_accuracy: 0.0391\n",
            "Epoch 5/100\n",
            "184/184 [==============================] - 1s 6ms/step - loss: 4.2606 - accuracy: 0.0447 - val_loss: 4.2699 - val_accuracy: 0.0522\n",
            "Epoch 6/100\n",
            "184/184 [==============================] - 1s 5ms/step - loss: 4.2256 - accuracy: 0.0654 - val_loss: 4.2438 - val_accuracy: 0.0565\n",
            "Epoch 7/100\n",
            "184/184 [==============================] - 1s 4ms/step - loss: 4.1985 - accuracy: 0.0600 - val_loss: 4.2150 - val_accuracy: 0.0609\n",
            "Epoch 8/100\n",
            "184/184 [==============================] - 1s 4ms/step - loss: 4.1545 - accuracy: 0.0851 - val_loss: 4.1776 - val_accuracy: 0.0739\n",
            "Epoch 9/100\n",
            "184/184 [==============================] - 1s 4ms/step - loss: 4.1067 - accuracy: 0.0905 - val_loss: 4.1306 - val_accuracy: 0.0609\n",
            "Epoch 10/100\n",
            "184/184 [==============================] - 1s 4ms/step - loss: 4.0453 - accuracy: 0.0971 - val_loss: 4.0736 - val_accuracy: 0.0652\n",
            "Epoch 11/100\n",
            "184/184 [==============================] - 1s 4ms/step - loss: 3.9612 - accuracy: 0.1156 - val_loss: 4.0020 - val_accuracy: 0.0783\n",
            "Epoch 12/100\n",
            "184/184 [==============================] - 1s 4ms/step - loss: 3.8773 - accuracy: 0.1254 - val_loss: 3.9161 - val_accuracy: 0.1130\n",
            "Epoch 13/100\n",
            "184/184 [==============================] - 1s 4ms/step - loss: 3.7655 - accuracy: 0.1592 - val_loss: 3.8194 - val_accuracy: 0.1174\n",
            "Epoch 14/100\n",
            "184/184 [==============================] - 1s 4ms/step - loss: 3.6864 - accuracy: 0.1570 - val_loss: 3.7179 - val_accuracy: 0.1391\n",
            "Epoch 15/100\n",
            "184/184 [==============================] - 1s 4ms/step - loss: 3.5727 - accuracy: 0.1788 - val_loss: 3.6001 - val_accuracy: 0.1609\n",
            "Epoch 16/100\n",
            "184/184 [==============================] - 1s 4ms/step - loss: 3.4739 - accuracy: 0.1941 - val_loss: 3.4758 - val_accuracy: 0.2087\n",
            "Epoch 17/100\n",
            "184/184 [==============================] - 1s 4ms/step - loss: 3.3370 - accuracy: 0.2181 - val_loss: 3.3469 - val_accuracy: 0.1913\n",
            "Epoch 18/100\n",
            "184/184 [==============================] - 1s 4ms/step - loss: 3.2063 - accuracy: 0.2541 - val_loss: 3.2168 - val_accuracy: 0.2261\n",
            "Epoch 19/100\n",
            "184/184 [==============================] - 1s 4ms/step - loss: 3.0784 - accuracy: 0.2366 - val_loss: 3.0945 - val_accuracy: 0.2304\n",
            "Epoch 20/100\n",
            "184/184 [==============================] - 1s 4ms/step - loss: 2.9559 - accuracy: 0.2792 - val_loss: 2.9655 - val_accuracy: 0.2652\n",
            "Epoch 21/100\n",
            "184/184 [==============================] - 1s 6ms/step - loss: 2.7952 - accuracy: 0.3119 - val_loss: 2.8432 - val_accuracy: 0.3522\n",
            "Epoch 22/100\n",
            "184/184 [==============================] - 1s 5ms/step - loss: 2.6796 - accuracy: 0.3326 - val_loss: 2.7055 - val_accuracy: 0.4565\n",
            "Epoch 23/100\n",
            "184/184 [==============================] - 1s 6ms/step - loss: 2.6016 - accuracy: 0.3501 - val_loss: 2.6039 - val_accuracy: 0.4478\n",
            "Epoch 24/100\n",
            "184/184 [==============================] - 1s 5ms/step - loss: 2.4831 - accuracy: 0.3675 - val_loss: 2.5045 - val_accuracy: 0.4739\n",
            "Epoch 25/100\n",
            "184/184 [==============================] - 1s 4ms/step - loss: 2.3825 - accuracy: 0.4002 - val_loss: 2.4043 - val_accuracy: 0.5435\n",
            "Epoch 26/100\n",
            "184/184 [==============================] - 1s 4ms/step - loss: 2.2725 - accuracy: 0.4242 - val_loss: 2.3036 - val_accuracy: 0.5739\n",
            "Epoch 27/100\n",
            "184/184 [==============================] - 1s 4ms/step - loss: 2.1796 - accuracy: 0.4482 - val_loss: 2.2130 - val_accuracy: 0.5696\n",
            "Epoch 28/100\n",
            "184/184 [==============================] - 1s 4ms/step - loss: 2.0728 - accuracy: 0.4678 - val_loss: 2.1323 - val_accuracy: 0.6087\n",
            "Epoch 29/100\n",
            "184/184 [==============================] - 1s 4ms/step - loss: 1.9808 - accuracy: 0.4929 - val_loss: 2.0359 - val_accuracy: 0.6478\n",
            "Epoch 30/100\n",
            "184/184 [==============================] - 1s 4ms/step - loss: 1.9106 - accuracy: 0.5147 - val_loss: 1.9747 - val_accuracy: 0.6348\n",
            "Epoch 31/100\n",
            "184/184 [==============================] - 1s 6ms/step - loss: 1.8392 - accuracy: 0.5060 - val_loss: 1.8970 - val_accuracy: 0.6652\n",
            "Epoch 32/100\n",
            "184/184 [==============================] - 1s 6ms/step - loss: 1.7733 - accuracy: 0.5518 - val_loss: 1.8192 - val_accuracy: 0.6870\n",
            "Epoch 33/100\n",
            "184/184 [==============================] - 1s 5ms/step - loss: 1.6898 - accuracy: 0.5649 - val_loss: 1.7414 - val_accuracy: 0.6957\n",
            "Epoch 34/100\n",
            "184/184 [==============================] - 1s 6ms/step - loss: 1.6475 - accuracy: 0.5703 - val_loss: 1.6824 - val_accuracy: 0.7043\n",
            "Epoch 35/100\n",
            "184/184 [==============================] - 1s 4ms/step - loss: 1.5955 - accuracy: 0.5987 - val_loss: 1.6154 - val_accuracy: 0.7174\n",
            "Epoch 36/100\n",
            "184/184 [==============================] - 1s 5ms/step - loss: 1.5244 - accuracy: 0.6150 - val_loss: 1.5522 - val_accuracy: 0.7304\n",
            "Epoch 37/100\n",
            "184/184 [==============================] - 1s 5ms/step - loss: 1.4944 - accuracy: 0.6140 - val_loss: 1.5056 - val_accuracy: 0.6957\n",
            "Epoch 38/100\n",
            "184/184 [==============================] - 1s 5ms/step - loss: 1.4384 - accuracy: 0.6303 - val_loss: 1.4399 - val_accuracy: 0.7261\n",
            "Epoch 39/100\n",
            "184/184 [==============================] - 1s 6ms/step - loss: 1.3709 - accuracy: 0.6478 - val_loss: 1.3881 - val_accuracy: 0.7478\n",
            "Epoch 40/100\n",
            "184/184 [==============================] - 1s 4ms/step - loss: 1.2805 - accuracy: 0.6783 - val_loss: 1.3446 - val_accuracy: 0.7217\n",
            "Epoch 41/100\n",
            "184/184 [==============================] - 1s 4ms/step - loss: 1.2923 - accuracy: 0.6641 - val_loss: 1.2750 - val_accuracy: 0.7739\n",
            "Epoch 42/100\n",
            "184/184 [==============================] - 1s 4ms/step - loss: 1.2008 - accuracy: 0.7001 - val_loss: 1.2362 - val_accuracy: 0.7565\n",
            "Epoch 43/100\n",
            "184/184 [==============================] - 1s 4ms/step - loss: 1.1734 - accuracy: 0.7132 - val_loss: 1.2051 - val_accuracy: 0.7522\n",
            "Epoch 44/100\n",
            "184/184 [==============================] - 1s 4ms/step - loss: 1.1113 - accuracy: 0.7372 - val_loss: 1.1375 - val_accuracy: 0.7870\n",
            "Epoch 45/100\n",
            "184/184 [==============================] - 1s 4ms/step - loss: 1.1124 - accuracy: 0.7045 - val_loss: 1.1068 - val_accuracy: 0.7870\n",
            "Epoch 46/100\n",
            "184/184 [==============================] - 1s 4ms/step - loss: 1.0329 - accuracy: 0.7405 - val_loss: 1.0556 - val_accuracy: 0.7913\n",
            "Epoch 47/100\n",
            "184/184 [==============================] - 1s 4ms/step - loss: 1.0004 - accuracy: 0.7459 - val_loss: 1.0235 - val_accuracy: 0.8043\n",
            "Epoch 48/100\n",
            "184/184 [==============================] - 1s 4ms/step - loss: 0.9620 - accuracy: 0.7655 - val_loss: 0.9905 - val_accuracy: 0.7913\n",
            "Epoch 49/100\n",
            "184/184 [==============================] - 1s 4ms/step - loss: 0.9479 - accuracy: 0.7535 - val_loss: 0.9602 - val_accuracy: 0.8130\n",
            "Epoch 50/100\n",
            "184/184 [==============================] - 1s 4ms/step - loss: 0.9156 - accuracy: 0.7754 - val_loss: 0.9383 - val_accuracy: 0.8000\n",
            "Epoch 51/100\n",
            "184/184 [==============================] - 1s 4ms/step - loss: 0.8287 - accuracy: 0.8212 - val_loss: 0.8947 - val_accuracy: 0.8043\n",
            "Epoch 52/100\n",
            "184/184 [==============================] - 1s 4ms/step - loss: 0.8426 - accuracy: 0.7917 - val_loss: 0.8631 - val_accuracy: 0.8087\n",
            "Epoch 53/100\n",
            "184/184 [==============================] - 1s 4ms/step - loss: 0.7932 - accuracy: 0.7928 - val_loss: 0.8474 - val_accuracy: 0.8261\n",
            "Epoch 54/100\n",
            "184/184 [==============================] - 1s 5ms/step - loss: 0.7907 - accuracy: 0.7993 - val_loss: 0.8185 - val_accuracy: 0.8304\n",
            "Epoch 55/100\n",
            "184/184 [==============================] - 1s 6ms/step - loss: 0.7683 - accuracy: 0.8168 - val_loss: 0.7830 - val_accuracy: 0.8304\n",
            "Epoch 56/100\n",
            "184/184 [==============================] - 1s 6ms/step - loss: 0.7350 - accuracy: 0.8321 - val_loss: 0.7762 - val_accuracy: 0.8261\n",
            "Epoch 57/100\n",
            "184/184 [==============================] - 1s 5ms/step - loss: 0.7298 - accuracy: 0.8222 - val_loss: 0.7467 - val_accuracy: 0.8348\n",
            "Epoch 58/100\n",
            "184/184 [==============================] - 1s 4ms/step - loss: 0.6712 - accuracy: 0.8539 - val_loss: 0.7368 - val_accuracy: 0.8304\n",
            "Epoch 59/100\n",
            "184/184 [==============================] - 1s 4ms/step - loss: 0.6574 - accuracy: 0.8364 - val_loss: 0.7270 - val_accuracy: 0.8261\n",
            "Epoch 60/100\n",
            "184/184 [==============================] - 1s 4ms/step - loss: 0.6576 - accuracy: 0.8419 - val_loss: 0.7015 - val_accuracy: 0.8391\n",
            "Epoch 61/100\n",
            "184/184 [==============================] - 1s 4ms/step - loss: 0.6557 - accuracy: 0.8408 - val_loss: 0.6850 - val_accuracy: 0.8391\n",
            "Epoch 62/100\n",
            "184/184 [==============================] - 1s 4ms/step - loss: 0.5872 - accuracy: 0.8506 - val_loss: 0.6636 - val_accuracy: 0.8478\n",
            "Epoch 63/100\n",
            "184/184 [==============================] - 1s 4ms/step - loss: 0.5766 - accuracy: 0.8833 - val_loss: 0.6457 - val_accuracy: 0.8304\n",
            "Epoch 64/100\n",
            "184/184 [==============================] - 1s 4ms/step - loss: 0.5610 - accuracy: 0.8659 - val_loss: 0.6271 - val_accuracy: 0.8565\n",
            "Epoch 65/100\n",
            "184/184 [==============================] - 1s 4ms/step - loss: 0.5529 - accuracy: 0.8779 - val_loss: 0.6231 - val_accuracy: 0.8478\n",
            "Epoch 66/100\n",
            "184/184 [==============================] - 1s 4ms/step - loss: 0.5391 - accuracy: 0.8659 - val_loss: 0.6163 - val_accuracy: 0.8348\n",
            "Epoch 67/100\n",
            "184/184 [==============================] - 1s 4ms/step - loss: 0.5340 - accuracy: 0.8822 - val_loss: 0.5969 - val_accuracy: 0.8609\n",
            "Epoch 68/100\n",
            "184/184 [==============================] - 1s 4ms/step - loss: 0.5237 - accuracy: 0.8800 - val_loss: 0.5950 - val_accuracy: 0.8609\n",
            "Epoch 69/100\n",
            "184/184 [==============================] - 1s 4ms/step - loss: 0.5020 - accuracy: 0.8757 - val_loss: 0.5817 - val_accuracy: 0.8522\n",
            "Epoch 70/100\n",
            "184/184 [==============================] - 1s 4ms/step - loss: 0.4700 - accuracy: 0.9029 - val_loss: 0.5626 - val_accuracy: 0.8565\n",
            "Epoch 71/100\n",
            "184/184 [==============================] - 1s 5ms/step - loss: 0.5034 - accuracy: 0.8779 - val_loss: 0.5566 - val_accuracy: 0.8522\n",
            "Epoch 72/100\n",
            "184/184 [==============================] - 1s 5ms/step - loss: 0.4533 - accuracy: 0.8920 - val_loss: 0.5468 - val_accuracy: 0.8478\n",
            "Epoch 73/100\n",
            "184/184 [==============================] - 1s 6ms/step - loss: 0.4247 - accuracy: 0.8975 - val_loss: 0.5352 - val_accuracy: 0.8478\n",
            "Epoch 74/100\n",
            "184/184 [==============================] - 1s 6ms/step - loss: 0.4529 - accuracy: 0.8877 - val_loss: 0.5293 - val_accuracy: 0.8565\n",
            "Epoch 75/100\n",
            "184/184 [==============================] - 1s 4ms/step - loss: 0.4092 - accuracy: 0.9073 - val_loss: 0.5331 - val_accuracy: 0.8522\n",
            "Epoch 76/100\n",
            "184/184 [==============================] - 1s 4ms/step - loss: 0.4285 - accuracy: 0.8920 - val_loss: 0.5210 - val_accuracy: 0.8609\n",
            "Epoch 77/100\n",
            "184/184 [==============================] - 1s 4ms/step - loss: 0.4172 - accuracy: 0.9029 - val_loss: 0.5047 - val_accuracy: 0.8652\n",
            "Epoch 78/100\n",
            "184/184 [==============================] - 1s 4ms/step - loss: 0.4009 - accuracy: 0.9095 - val_loss: 0.5181 - val_accuracy: 0.8565\n",
            "Epoch 79/100\n",
            "184/184 [==============================] - 1s 4ms/step - loss: 0.3862 - accuracy: 0.9073 - val_loss: 0.4981 - val_accuracy: 0.8522\n",
            "Epoch 80/100\n",
            "184/184 [==============================] - 1s 4ms/step - loss: 0.3961 - accuracy: 0.9019 - val_loss: 0.4858 - val_accuracy: 0.8565\n",
            "Epoch 81/100\n",
            "184/184 [==============================] - 1s 4ms/step - loss: 0.3784 - accuracy: 0.9138 - val_loss: 0.4876 - val_accuracy: 0.8565\n",
            "Epoch 82/100\n",
            "184/184 [==============================] - 1s 4ms/step - loss: 0.3536 - accuracy: 0.9095 - val_loss: 0.4803 - val_accuracy: 0.8565\n",
            "Epoch 83/100\n",
            "184/184 [==============================] - 1s 4ms/step - loss: 0.3440 - accuracy: 0.9193 - val_loss: 0.4763 - val_accuracy: 0.8652\n",
            "Epoch 84/100\n",
            "184/184 [==============================] - 1s 4ms/step - loss: 0.3599 - accuracy: 0.9171 - val_loss: 0.4680 - val_accuracy: 0.8609\n",
            "Epoch 85/100\n",
            "184/184 [==============================] - 1s 4ms/step - loss: 0.3445 - accuracy: 0.9160 - val_loss: 0.4684 - val_accuracy: 0.8696\n",
            "Epoch 86/100\n",
            "184/184 [==============================] - 1s 4ms/step - loss: 0.3256 - accuracy: 0.9269 - val_loss: 0.4670 - val_accuracy: 0.8522\n",
            "Epoch 87/100\n",
            "184/184 [==============================] - 1s 4ms/step - loss: 0.3299 - accuracy: 0.9171 - val_loss: 0.4515 - val_accuracy: 0.8739\n",
            "Epoch 88/100\n",
            "184/184 [==============================] - 1s 4ms/step - loss: 0.3254 - accuracy: 0.9051 - val_loss: 0.4684 - val_accuracy: 0.8652\n",
            "Epoch 89/100\n",
            "184/184 [==============================] - 1s 5ms/step - loss: 0.3284 - accuracy: 0.9258 - val_loss: 0.4609 - val_accuracy: 0.8652\n",
            "Epoch 90/100\n",
            "184/184 [==============================] - 1s 6ms/step - loss: 0.3192 - accuracy: 0.9237 - val_loss: 0.4523 - val_accuracy: 0.8696\n",
            "Epoch 91/100\n",
            "184/184 [==============================] - 1s 6ms/step - loss: 0.3110 - accuracy: 0.9313 - val_loss: 0.4466 - val_accuracy: 0.8696\n",
            "Epoch 92/100\n",
            "184/184 [==============================] - 1s 5ms/step - loss: 0.3151 - accuracy: 0.9280 - val_loss: 0.4496 - val_accuracy: 0.8609\n",
            "Epoch 93/100\n",
            "184/184 [==============================] - 1s 4ms/step - loss: 0.3106 - accuracy: 0.9237 - val_loss: 0.4551 - val_accuracy: 0.8565\n",
            "Epoch 94/100\n",
            "184/184 [==============================] - 1s 4ms/step - loss: 0.3108 - accuracy: 0.9084 - val_loss: 0.4482 - val_accuracy: 0.8609\n",
            "Epoch 95/100\n",
            "184/184 [==============================] - 1s 4ms/step - loss: 0.2913 - accuracy: 0.9269 - val_loss: 0.4423 - val_accuracy: 0.8609\n",
            "Epoch 96/100\n",
            "184/184 [==============================] - 1s 4ms/step - loss: 0.2677 - accuracy: 0.9346 - val_loss: 0.4224 - val_accuracy: 0.8609\n",
            "Epoch 97/100\n",
            "184/184 [==============================] - 1s 4ms/step - loss: 0.2795 - accuracy: 0.9389 - val_loss: 0.4310 - val_accuracy: 0.8739\n",
            "Epoch 98/100\n",
            "184/184 [==============================] - 1s 4ms/step - loss: 0.2847 - accuracy: 0.9335 - val_loss: 0.4259 - val_accuracy: 0.8652\n",
            "Epoch 99/100\n",
            "184/184 [==============================] - 1s 4ms/step - loss: 0.2636 - accuracy: 0.9378 - val_loss: 0.4233 - val_accuracy: 0.8609\n",
            "Epoch 100/100\n",
            "184/184 [==============================] - 1s 4ms/step - loss: 0.2570 - accuracy: 0.9444 - val_loss: 0.4248 - val_accuracy: 0.8522\n"
          ]
        },
        {
          "output_type": "stream",
          "name": "stderr",
          "text": [
            "/usr/local/lib/python3.10/dist-packages/keras/src/engine/training.py:3103: UserWarning: You are saving your model as an HDF5 file via `model.save()`. This file format is considered legacy. We recommend using instead the native Keras format, e.g. `model.save('my_model.keras')`.\n",
            "  saving_api.save_model(\n"
          ]
        },
        {
          "output_type": "stream",
          "name": "stdout",
          "text": [
            "model created\n"
          ]
        }
      ],
      "source": [
        "\n",
        "model = Sequential()\n",
        "model.add(Dense(128, input_shape=(INPUT_SHAPE,), activation='relu'))\n",
        "model.add(Dropout(0.25))\n",
        "model.add(Dense(64, activation='relu'))\n",
        "model.add(Dropout(0.25))\n",
        "model.add(Dense(CLASSES, activation='softmax'))\n",
        "\n",
        "sgd = SGD(learning_rate=0.001, momentum=0.9, nesterov=True)\n",
        "model.compile(loss='categorical_crossentropy', optimizer=sgd, metrics=['accuracy'])\n",
        "\n",
        "#fitting and saving the model\n",
        "hist = model.fit(\n",
        "    train_x,\n",
        "    train_y,\n",
        "    validation_data=(val_x, val_y),\n",
        "    epochs=100,\n",
        "    batch_size=5\n",
        "    )\n",
        "\n",
        "model.save('chatbot_model.h5', hist)\n",
        "\n",
        "print(\"model created\")"
      ]
    },
    {
      "cell_type": "code",
      "source": [
        "def plot_history(history):\n",
        "    hist = history.history\n",
        "    plt.subplots(1,2,figsize=(16,8))\n",
        "\n",
        "    # Loss\n",
        "    plt.subplot(1,2,1)\n",
        "    plt.plot(range(len(hist['loss'])), hist['loss'], label='Train')\n",
        "    plt.plot(range(len(hist['val_loss'])), hist['val_loss'], label='Validation')\n",
        "    plt.xlabel('Epochs', fontsize=16, labelpad=20)\n",
        "    plt.ylabel('Loss', fontsize=16, labelpad=20)\n",
        "    plt.legend()\n",
        "    plt.title('Loss Over Epochs', fontsize=20, pad=20)\n",
        "\n",
        "    # Accuracy\n",
        "    plt.subplot(1,2,2)\n",
        "    plt.plot(range(len(hist['accuracy'])), hist['accuracy'], label='Train')\n",
        "    plt.plot(range(len(hist['val_accuracy'])), hist['val_accuracy'], label='Validation')\n",
        "    plt.xlabel('Epochs', fontsize=16, labelpad=20)\n",
        "    plt.ylabel('Accuracy', fontsize=16, labelpad=20)\n",
        "    plt.legend()\n",
        "    plt.title('Accuracy Over Epochs', fontsize=20, pad=20)\n",
        "    plt.savefig('model_history.jpg', dpi=300)\n",
        "\n",
        "    plt.show()\n"
      ],
      "metadata": {
        "id": "RKXaYLiYsF6u"
      },
      "execution_count": 12,
      "outputs": []
    },
    {
      "cell_type": "code",
      "source": [
        "plot_history(hist)"
      ],
      "metadata": {
        "colab": {
          "base_uri": "https://localhost:8080/",
          "height": 726
        },
        "id": "ibsxE4RVsT7_",
        "outputId": "bdea84b3-4094-42ea-d30e-1fd5cd895c38"
      },
      "execution_count": 13,
      "outputs": [
        {
          "output_type": "display_data",
          "data": {
            "text/plain": [
              "<Figure size 1600x800 with 2 Axes>"
            ],
            "image/png": "[encoded data removed]"
          },
          "metadata": {}
        }
      ]
    },
    {
      "cell_type": "markdown",
      "source": [
        "## Simulation"
      ],
      "metadata": {
        "id": "yAPQuLx1sEAE"
      }
    },
    {
      "cell_type": "code",
      "execution_count": 14,
      "metadata": {
        "id": "x2xm8t0sJMy6"
      },
      "outputs": [],
      "source": [
        "model = load_model('chatbot_model.h5')\n",
        "\n",
        "intents = pickle.load(open('intents.pkl', 'rb'))\n",
        "words = pickle.load(open('words.pkl','rb'))\n",
        "classes = pickle.load(open('classes.pkl','rb'))"
      ]
    },
    {
      "cell_type": "code",
      "execution_count": 15,
      "metadata": {
        "id": "uiE4r-BEJMy7"
      },
      "outputs": [],
      "source": [
        "def clean_up_sentence(sentence):\n",
        "\n",
        "    # tokenize the pattern - split words into array\n",
        "    sentence_words = nltk.word_tokenize(sentence)\n",
        "    # stem each word - create short form for word\n",
        "    sentence_words = [lemmatizer.lemmatize(word.lower()) for word in sentence_words]\n",
        "\n",
        "    return sentence_words\n",
        "# return bag of words array: 0 or 1 for each word in the bag that exists in the sentence"
      ]
    },
    {
      "cell_type": "code",
      "execution_count": 16,
      "metadata": {
        "id": "fzlZh77ZJMy7"
      },
      "outputs": [],
      "source": [
        "def bow(sentence, words, show_details=False):\n",
        "\n",
        "    # tokenize the pattern\n",
        "    sentence_words = clean_up_sentence(sentence)\n",
        "    # bag of words - matrix of N words, vocabulary matrix\n",
        "\n",
        "    bag = [0]*len(words)\n",
        "    for s in sentence_words:\n",
        "        for i,w in enumerate(words):\n",
        "            if w == s:\n",
        "                # assign 1 if current word is in the vocabulary position\n",
        "                bag[i] = 1\n",
        "                if show_details:\n",
        "                    print (\"found in bag: %s\" % w)\n",
        "\n",
        "    return(np.array(bag))"
      ]
    },
    {
      "cell_type": "code",
      "execution_count": 17,
      "metadata": {
        "id": "7AeSX6t1JMy7"
      },
      "outputs": [],
      "source": [
        "def predict_class(sentence, model):\n",
        "\n",
        "    # filter out predictions below a threshold\n",
        "    p = bow(sentence, words,show_details=False)\n",
        "    res = model.predict(np.array([p]))[0]\n",
        "    ERROR_THRESHOLD = 0.25\n",
        "    results = [[i,r] for i,r in enumerate(res) if r>ERROR_THRESHOLD]\n",
        "\n",
        "    # sort by strength of probability\n",
        "    results.sort(key=lambda x: x[1], reverse=True)\n",
        "    return_list = []\n",
        "    for r in results:\n",
        "        return_list.append({\"intent\": classes[r[0]], \"probability\": str(r[1])})\n",
        "\n",
        "    return return_list"
      ]
    },
    {
      "cell_type": "code",
      "execution_count": 18,
      "metadata": {
        "id": "bac6hrrQJMy8"
      },
      "outputs": [],
      "source": [
        "def getResponse(ints, intents_json):\n",
        "\n",
        "    tag = ints[0]['intent']\n",
        "    list_of_intents = intents_json['intents']\n",
        "\n",
        "    result = \"I'm sorry, I don't understand your request.\"\n",
        "\n",
        "    for i in list_of_intents:\n",
        "        if(i['tag']== tag):\n",
        "            result = random.choice(i['responses'])\n",
        "            break\n",
        "\n",
        "    return result"
      ]
    },
    {
      "cell_type": "code",
      "execution_count": 19,
      "metadata": {
        "id": "s0sXdtBzJMy8"
      },
      "outputs": [],
      "source": [
        "def chatbot_response(text):\n",
        "\n",
        "    ints = predict_class(text, model)\n",
        "    res = getResponse(ints, intents)\n",
        "\n",
        "    return res"
      ]
    },
    {
      "cell_type": "code",
      "source": [
        "text = 'where is your store?'\n",
        "print(chatbot_response(text))"
      ],
      "metadata": {
        "colab": {
          "base_uri": "https://localhost:8080/"
        },
        "id": "sRgBgayNx4EY",
        "outputId": "ca2f3e76-08ff-4c33-e2f4-698dcd474592"
      },
      "execution_count": 20,
      "outputs": [
        {
          "output_type": "stream",
          "name": "stdout",
          "text": [
            "1/1 [==============================] - 0s 115ms/step\n",
            "The store address is 123 Street Road. Drop by anytime during our working hours!\n"
          ]
        }
      ]
    },
    {
      "cell_type": "code",
      "source": [
        "text = 'tell me more about Pedestal please'\n",
        "print(chatbot_response(text))"
      ],
      "metadata": {
        "colab": {
          "base_uri": "https://localhost:8080/"
        },
        "id": "3lYNSEGhzm3I",
        "outputId": "f8b3c592-eee3-4fce-d0eb-b336075f8b37"
      },
      "execution_count": 21,
      "outputs": [
        {
          "output_type": "stream",
          "name": "stdout",
          "text": [
            "1/1 [==============================] - 0s 16ms/step\n",
            "The Pedestal Desk may be available in different sizes to suit your workspace requirements.\n"
          ]
        }
      ]
    },
    {
      "cell_type": "code",
      "source": [
        "text = 'What do you sell??'\n",
        "print(chatbot_response(text))"
      ],
      "metadata": {
        "id": "q7kPgu1Y05Hz",
        "colab": {
          "base_uri": "https://localhost:8080/"
        },
        "outputId": "656a136f-3865-4991-8271-5065fa81223c"
      },
      "execution_count": 22,
      "outputs": [
        {
          "output_type": "stream",
          "name": "stdout",
          "text": [
            "1/1 [==============================] - 0s 18ms/step\n",
            "We offer a wide variety of house furniture, including wooden chairs, beds, and other items. Use the search bar on our website to browse our selection. For further details, visit our store page.\n"
          ]
        }
      ]
    }
  ],
  "metadata": {
    "kernelspec": {
      "display_name": "Python 3",
      "name": "python3"
    },
    "language_info": {
      "codemirror_mode": {
        "name": "ipython",
        "version": 3
      },
      "file_extension": ".py",
      "mimetype": "text/x-python",
      "name": "python",
      "nbconvert_exporter": "python",
      "pygments_lexer": "ipython3",
      "version": "3.9.7"
    },
    "colab": {
      "provenance": [],
      "gpuType": "T4"
    },
    "accelerator": "GPU"
  },
  "nbformat": 4,
  "nbformat_minor": 0
}